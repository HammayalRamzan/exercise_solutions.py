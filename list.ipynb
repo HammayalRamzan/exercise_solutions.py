{
 "cells": [
  {
   "cell_type": "code",
   "execution_count": 29,
   "metadata": {},
   "outputs": [
    {
     "name": "stdout",
     "output_type": "stream",
     "text": [
      "['Ujala', 'Minahil', 'Ahba', 'Rida', 'Iqra']\n"
     ]
    }
   ],
   "source": [
    "# List of friends name\n",
    "friends_name=['Ujala','Minahil','Ahba','Rida','Iqra' ]\n",
    "print(friends_name)"
   ]
  },
  {
   "cell_type": "code",
   "execution_count": 30,
   "metadata": {},
   "outputs": [
    {
     "name": "stdout",
     "output_type": "stream",
     "text": [
      "Hello, Ujala! Hope you are having an awesome day\n",
      "Hello, Minahil! Hope you are having an awesome day\n",
      "Hello, Ahba! Hope you are having an awesome day\n",
      "Hello, Rida! Hope you are having an awesome day\n",
      "Hello, Iqra! Hope you are having an awesome day\n"
     ]
    }
   ],
   "source": [
    "# List of friends name\n",
    "friends_name=['Ujala','Minahil','Ahba','Iqra' ]\n",
    "# Print a personal message for each friend\n",
    "print(f\"Hello, {'Ujala'}! Hope you are having an awesome day\")\n",
    "print(f\"Hello, {'Minahil'}! Hope you are having an awesome day\")\n",
    "print(f\"Hello, {'Ahba'}! Hope you are having an awesome day\")\n",
    "print(f\"Hello, {'Rida'}! Hope you are having an awesome day\")\n",
    "print(f\"Hello, {'Iqra'}! Hope you are having an awesome day\")\n"
   ]
  },
  {
   "cell_type": "code",
   "execution_count": 15,
   "metadata": {},
   "outputs": [
    {
     "name": "stdout",
     "output_type": "stream",
     "text": [
      "I would like to own a Tesla\n",
      "I would like to own a BMW\n",
      "I would like to own a Porsche\n",
      "I would like to own a Mercedes\n",
      "I would like to own a Audi\n"
     ]
    }
   ],
   "source": [
    "# List of mode of favorite transportation\n",
    "transportation_modes=[ 'Tesla','BMW','Porsche','Mercedes','Audi']\n",
    "print(f'I would like to own a {transportation_modes[0]}')\n",
    "print(f'I would like to own a {transportation_modes[1]}')\n",
    "print(f'I would like to own a {transportation_modes[2]}')\n",
    "print(f'I would like to own a {transportation_modes[3]}')\n",
    "print(f'I would like to own a {transportation_modes[4]}')"
   ]
  },
  {
   "cell_type": "code",
   "execution_count": 18,
   "metadata": {},
   "outputs": [
    {
     "name": "stdout",
     "output_type": "stream",
     "text": [
      "Dear Ujala,I would glad to invite you for dinner\n",
      "Dear Minahil,I would glad to invite you for dinner\n",
      "Dear Ahba,I would glad to invite you for dinner\n"
     ]
    }
   ],
   "source": [
    "# List of people to invite to dinner\n",
    "dinner_guests=['Ujala','Minahil','Ahba']\n",
    "# Print personal invitation for each guest\n",
    "print(f'Dear {'Ujala'},I would glad to invite you for dinner')\n",
    "print(f'Dear {'Minahil'},I would glad to invite you for dinner')\n",
    "print(f'Dear {'Ahba'},I would glad to invite you for dinner')"
   ]
  },
  {
   "cell_type": "code",
   "execution_count": 10,
   "metadata": {},
   "outputs": [
    {
     "name": "stdout",
     "output_type": "stream",
     "text": [
      "['Ujala', 'Minahil', 'Ahba']\n",
      "unfortunately['Ahba'],cant make it to dinner\n",
      "['Iqra'] , you invited for dinner tonight\n"
     ]
    }
   ],
   "source": [
    "# Changing guest list\n",
    "guest_list=['Ujala' ,'Minahil','Ahba']\n",
    "print(guest_list)\n",
    "# The guest who cant make it\n",
    "unavailable_guest=['Ahba']\n",
    "print(f'unfortunately{unavailable_guest},cant make it to dinner')\n",
    "# Replace the guest\n",
    "replaced_guest=['Iqra']\n",
    "print(f'{replaced_guest} , you invited for dinner tonight')"
   ]
  },
  {
   "cell_type": "code",
   "execution_count": 11,
   "metadata": {},
   "outputs": [
    {
     "name": "stdout",
     "output_type": "stream",
     "text": [
      "Great news! I found a bigger table,so we can invite more guests\n",
      "Dear['Ujala', 'Minahil', 'Tooba', 'Ahba', 'Iqra', 'Mehak'],Lets catch up dinner tonight\n"
     ]
    }
   ],
   "source": [
    "# Exercise 3-4 or 3-5 initial guest list\n",
    "guest_list=['Ujala','Ahba','Iqra' ]\n",
    "# Informing about the bigger table\n",
    "print(\"Great news! I found a bigger table,so we can invite more guests\")\n",
    "# Adding new guest\n",
    "guest_list.insert(1,'Minahil')\n",
    "guest_list.insert(2,'Tooba')\n",
    "guest_list.append('Mehak')\n",
    "# Sending our invitations\n",
    "print(f'Dear{guest_list},Lets catch up dinner tonight')\n"
   ]
  },
  {
   "cell_type": "code",
   "execution_count": 21,
   "metadata": {},
   "outputs": [
    {
     "name": "stdout",
     "output_type": "stream",
     "text": [
      "Sorry, i can invite only two guests for a dinner\n",
      "Unfortunately,iqra i cant invite you for a dinner\n",
      "['Ujala', 'Minahil'],you are still invited for a dinner\n",
      "[],deleting the list at end of the program\n"
     ]
    }
   ],
   "source": [
    "# Exercise 3-6 Initial guest list\n",
    "guest_list=['Ujala','Minahil','Iqra' ]\n",
    "# Informing that i can invite only two guests\n",
    "print('Sorry, i can invite only two guests for a dinner')\n",
    "# Use pop() to remove guests\n",
    "guest_list.pop(-1)\n",
    "# Apologise for cant invite them to dinner\n",
    "print(f'Unfortunately,{'iqra'} i cant invite you for a dinner')\n",
    "print(f'{guest_list},you are still invited for a dinner')\n",
    "del guest_list[ : ]\n",
    "print(f'{guest_list},deleting the list at end of the program')\n"
   ]
  },
  {
   "cell_type": "code",
   "execution_count": 3,
   "metadata": {},
   "outputs": [
    {
     "name": "stdout",
     "output_type": "stream",
     "text": [
      "Original list: ['Fairy_Meadows', 'Hunza_Valley', 'Azad_Kashmir', 'Istanbul', 'Karachi']\n",
      "After use sorted: ['Azad_Kashmir', 'Fairy_Meadows', 'Hunza_Valley', 'Istanbul', 'Karachi']\n",
      "After using reverse with sorted: ['Karachi', 'Istanbul', 'Hunza_Valley', 'Fairy_Meadows', 'Azad_Kashmir']\n",
      "Original list: ['Fairy_Meadows', 'Hunza_Valley', 'Azad_Kashmir', 'Istanbul', 'Karachi']\n",
      "After reverse the list agaib: ['Karachi', 'Istanbul', 'Azad_Kashmir', 'Hunza_Valley', 'Fairy_Meadows']\n",
      "After sort the list: ['Azad_Kashmir', 'Fairy_Meadows', 'Hunza_Valley', 'Istanbul', 'Karachi']\n",
      "After use reverse with sort list: ['Karachi', 'Istanbul', 'Hunza_Valley', 'Fairy_Meadows', 'Azad_Kashmir']\n"
     ]
    }
   ],
   "source": [
    "# Think at least five places in the world\n",
    "places_to_visit=['Fairy_Meadows','Hunza_Valley','Azad_Kashmir','Istanbul','Karachi']\n",
    "# Store places in list\n",
    "print(f'Original list: {places_to_visit}')\n",
    "# Use sorted()\n",
    "print(f'After use sorted: {sorted(places_to_visit)}')\n",
    "print(f'After using reverse with sorted: {sorted(places_to_visit, reverse=True)}')\n",
    "print(f'Original list: {places_to_visit}')\n",
    "places_to_visit.reverse()\n",
    "print(f'After reverse the list agaib: {places_to_visit}')\n",
    "places_to_visit.sort()\n",
    "print(f'After sort the list: {places_to_visit}')\n",
    "places_to_visit.sort(reverse=True)\n",
    "print(f'After use reverse with sort list: {places_to_visit}')\n"
   ]
  },
  {
   "cell_type": "code",
   "execution_count": 28,
   "metadata": {},
   "outputs": [
    {
     "name": "stdout",
     "output_type": "stream",
     "text": [
      " After append: ['Turkey', 'London', 'New york', 'China', 'Paris']\n",
      "Index: 3\n",
      "After insert['Turkey', 'London', 'London', 'New york', 'China', 'Paris']\n",
      "Remove: None\n",
      "After pop: ['London', 'London', 'New york', 'China']\n",
      "After sort: ['China', 'London', 'London', 'New york']\n",
      "After reverse: ['New york', 'London', 'London', 'China']\n",
      "count: (<built-in method count of list object at 0x0000019690E6A800>, 'china')\n",
      " Extend: ['New york', 'London', 'London', 'China', 'T', 'u', 'r', 'k', 'e', 'y']\n",
      "Copy: ['New york', 'London', 'London', 'China', 'T', 'u', 'r', 'k', 'e', 'y']\n",
      "Clear: []\n"
     ]
    }
   ],
   "source": [
    "# Things that could store in list\n",
    "countries_list=['Turkey','London','New york','China']\n",
    "# Append\n",
    "countries_list.append('Paris')\n",
    "print(f' After append: {countries_list}')\n",
    "# Index\n",
    "print(f'Index: {countries_list.index('China')}')\n",
    "# Insert\n",
    "countries_list.insert(1,'London')\n",
    "print(f'After insert{countries_list}')\n",
    "# Remove\n",
    "print(f'Remove: {countries_list.remove('Paris')}')\n",
    "# Pop()\n",
    "countries_list.pop(0)\n",
    "print(f'After pop: {countries_list}')\n",
    "# Sort\n",
    "countries_list.sort()\n",
    "print(f'After sort: {countries_list}')\n",
    "# Reverse\n",
    "countries_list.reverse()\n",
    "print(f'After reverse: {countries_list}')\n",
    "# Count\n",
    "print(f'count: {countries_list.count,('china')}')\n",
    "# Extend\n",
    "countries_list.extend('Turkey')\n",
    "print(f' Extend: {countries_list}')\n",
    "# Copy\n",
    "countries_list.copy()\n",
    "print(f'Copy: {countries_list}')\n",
    "# Clear\n",
    "countries_list.clear()\n",
    "print(f'Clear: {countries_list}')"
   ]
  },
  {
   "cell_type": "code",
   "execution_count": 24,
   "metadata": {},
   "outputs": [
    {
     "name": "stdout",
     "output_type": "stream",
     "text": [
      "5\n"
     ]
    }
   ],
   "source": [
    "# Receive an index error\n",
    "my_list=[1,2,3,4,5 ]\n",
    "print(my_list[4])"
   ]
  }
 ],
 "metadata": {
  "kernelspec": {
   "display_name": "Python 3",
   "language": "python",
   "name": "python3"
  },
  "language_info": {
   "codemirror_mode": {
    "name": "ipython",
    "version": 3
   },
   "file_extension": ".py",
   "mimetype": "text/x-python",
   "name": "python",
   "nbconvert_exporter": "python",
   "pygments_lexer": "ipython3",
   "version": "3.12.4"
  }
 },
 "nbformat": 4,
 "nbformat_minor": 2
}
